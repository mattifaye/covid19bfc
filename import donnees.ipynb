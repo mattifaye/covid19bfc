{
 "cells": [
  {
   "cell_type": "code",
   "execution_count": 274,
   "metadata": {},
   "outputs": [],
   "source": [
    "import pandas as pd\n",
    "\n",
    "url = \"https://www.data.gouv.fr/fr/datasets/r/63352e38-d353-4b54-bfd1-f1b3ee1cabd7\"\n",
    "dptBFC = [\"21\", \"25\", \"39\", \"58\", \"70\", \"71\", \"89\", \"90\"]\n",
    "\n",
    "# On importe les données depuis l'url\n",
    "source = pd.read_csv(url,sep=\";\")\n",
    "\n",
    "\n",
    "# On filtre ce qui nous intéresse\n",
    "filtre = source[(source[\"sexe\"] == 0) & (source[\"dep\"].isin(dptBFC))].filter([\"jour\",\"dep\",\"dc\",\"rea\",\"hosp\",\"rad\"])\n",
    "\n",
    "# On renomme les colonnes pour que ce soit plus lisible\n",
    "donneesOK = filtre.rename(index=str, columns={\"jour\":\"Date\",\"dep\":\"Code\",\"hosp\":\"Personnes hospitalisées\",\"rea\":\"Personnes en réanimation\",\"rad\":\"Personnes de retour à domicile (cumul)\",\"dc\":\"Personnes décédées (cumul)\"})\n",
    "\n",
    "# On créé le fichier bfc et on l'enregistre\n",
    "bfc = pd.pivot_table(donneesOK, values=[\"Personnes décédées (cumul)\",\"Personnes en réanimation\",\"Personnes hospitalisées\"], index=[\"Date\"], aggfunc=\"sum\")\n",
    "bfc.to_csv(\"bfc.csv\")\n",
    "\n",
    "# On créé le fichier retourdom et on l'enregistre\n",
    "retourdom = pd.pivot_table(donneesOK, values=[\"Personnes de retour à domicile (cumul)\",\"Personnes décédées (cumul)\"], index=[\"Date\"], aggfunc=\"sum\")\n",
    "retourdom.to_csv(\"retourdom.csv\")\n",
    "\n",
    "# On trouve la valeur maximale dans tous les départements et on l'enregistre\n",
    "maximum = ((source[(source[\"sexe\"] == 0) & (source[\"dep\"].isin(dptBFC))].filter([\"dc\",\"rea\",\"hosp\"]).max()).max()+10)\n",
    "f = open(\"max.csv\", \"w\")\n",
    "f.write(str(maximum))\n",
    "f.close()\n",
    "\n",
    "# On récupère les décès pour la carte et on les enregistre\n",
    "sourcecarte = pd.read_csv(\"sourcecarte.csv\",sep=\",\",dtype={\"Code\": object})\n",
    "decespardpt = pd.pivot_table(donneesOK, values=[\"Personnes décédées (cumul)\",\"Date\"], index=[\"Code\"], aggfunc=\"last\")\n",
    "carte = pd.merge(sourcecarte, decespardpt, left_on=\"Code\", right_index= True, how=\"outer\")\n",
    "carte.to_csv(\"carte.csv\", index= False)\n",
    "\n",
    "\n",
    "# On créé un fichier pour chaque département et on les enregistre\n",
    "for dpt in dptBFC:\n",
    "    filtre = source[(source[\"sexe\"] == 0) & (source[\"dep\"] == dpt)].filter([\"jour\",\"dep\",\"dep\",\"dc\",\"rea\",\"hosp\"])\n",
    "    donneesOK = filtre.rename(index=str, columns={\"jour\":\"Date\",\"dep\":\"Code\",\"hosp\":\"Personnes hospitalisées\",\"rea\":\"Personnes en réanimation\",\"rad\":\"Personnes de retour à domicile (cumul)\",\"dc\":\"Personnes décédées (cumul)\"})\n",
    "    donneesOK.to_csv(dpt+\".csv\", index = False)"
   ]
  },
  {
   "cell_type": "code",
   "execution_count": null,
   "metadata": {},
   "outputs": [],
   "source": []
  }
 ],
 "metadata": {
  "kernelspec": {
   "display_name": "Python 3",
   "language": "python",
   "name": "python3"
  },
  "language_info": {
   "codemirror_mode": {
    "name": "ipython",
    "version": 3
   },
   "file_extension": ".py",
   "mimetype": "text/x-python",
   "name": "python",
   "nbconvert_exporter": "python",
   "pygments_lexer": "ipython3",
   "version": "3.7.6"
  }
 },
 "nbformat": 4,
 "nbformat_minor": 4
}
